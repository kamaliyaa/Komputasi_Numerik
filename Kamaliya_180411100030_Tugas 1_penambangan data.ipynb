{
 "cells": [
  {
   "cell_type": "code",
   "execution_count": 2,
   "metadata": {},
   "outputs": [
    {
     "data": {
      "text/html": [
       "<style  type=\"text/css\" >\n",
       "</style><table id=\"T_8677a086_cf51_11e9_a59a_e82a440aa5ac\" ><thead>    <tr>        <th class=\"col_heading level0 col0\" >stats</th>        <th class=\"col_heading level0 col1\" >Laki-Laki</th>        <th class=\"col_heading level0 col2\" >Perempuan</th>        <th class=\"col_heading level0 col3\" >Tinggi Badan</th>        <th class=\"col_heading level0 col4\" >Berat Badan</th>    </tr></thead><tbody>\n",
       "                <tr>\n",
       "                                <td id=\"T_8677a086_cf51_11e9_a59a_e82a440aa5acrow0_col0\" class=\"data row0 col0\" >Min</td>\n",
       "                        <td id=\"T_8677a086_cf51_11e9_a59a_e82a440aa5acrow0_col1\" class=\"data row0 col1\" >20</td>\n",
       "                        <td id=\"T_8677a086_cf51_11e9_a59a_e82a440aa5acrow0_col2\" class=\"data row0 col2\" >20</td>\n",
       "                        <td id=\"T_8677a086_cf51_11e9_a59a_e82a440aa5acrow0_col3\" class=\"data row0 col3\" >150</td>\n",
       "                        <td id=\"T_8677a086_cf51_11e9_a59a_e82a440aa5acrow0_col4\" class=\"data row0 col4\" >50</td>\n",
       "            </tr>\n",
       "            <tr>\n",
       "                                <td id=\"T_8677a086_cf51_11e9_a59a_e82a440aa5acrow1_col0\" class=\"data row1 col0\" >Max</td>\n",
       "                        <td id=\"T_8677a086_cf51_11e9_a59a_e82a440aa5acrow1_col1\" class=\"data row1 col1\" >40</td>\n",
       "                        <td id=\"T_8677a086_cf51_11e9_a59a_e82a440aa5acrow1_col2\" class=\"data row1 col2\" >30</td>\n",
       "                        <td id=\"T_8677a086_cf51_11e9_a59a_e82a440aa5acrow1_col3\" class=\"data row1 col3\" >180</td>\n",
       "                        <td id=\"T_8677a086_cf51_11e9_a59a_e82a440aa5acrow1_col4\" class=\"data row1 col4\" >75</td>\n",
       "            </tr>\n",
       "            <tr>\n",
       "                                <td id=\"T_8677a086_cf51_11e9_a59a_e82a440aa5acrow2_col0\" class=\"data row2 col0\" >Mean</td>\n",
       "                        <td id=\"T_8677a086_cf51_11e9_a59a_e82a440aa5acrow2_col1\" class=\"data row2 col1\" >30.01</td>\n",
       "                        <td id=\"T_8677a086_cf51_11e9_a59a_e82a440aa5acrow2_col2\" class=\"data row2 col2\" >25.06</td>\n",
       "                        <td id=\"T_8677a086_cf51_11e9_a59a_e82a440aa5acrow2_col3\" class=\"data row2 col3\" >165.284</td>\n",
       "                        <td id=\"T_8677a086_cf51_11e9_a59a_e82a440aa5acrow2_col4\" class=\"data row2 col4\" >62.61</td>\n",
       "            </tr>\n",
       "            <tr>\n",
       "                                <td id=\"T_8677a086_cf51_11e9_a59a_e82a440aa5acrow3_col0\" class=\"data row3 col0\" >Standard Deviasi</td>\n",
       "                        <td id=\"T_8677a086_cf51_11e9_a59a_e82a440aa5acrow3_col1\" class=\"data row3 col1\" >6.21</td>\n",
       "                        <td id=\"T_8677a086_cf51_11e9_a59a_e82a440aa5acrow3_col2\" class=\"data row3 col2\" >3.08</td>\n",
       "                        <td id=\"T_8677a086_cf51_11e9_a59a_e82a440aa5acrow3_col3\" class=\"data row3 col3\" >8.83</td>\n",
       "                        <td id=\"T_8677a086_cf51_11e9_a59a_e82a440aa5acrow3_col4\" class=\"data row3 col4\" >7.6</td>\n",
       "            </tr>\n",
       "            <tr>\n",
       "                                <td id=\"T_8677a086_cf51_11e9_a59a_e82a440aa5acrow4_col0\" class=\"data row4 col0\" >Variasi</td>\n",
       "                        <td id=\"T_8677a086_cf51_11e9_a59a_e82a440aa5acrow4_col1\" class=\"data row4 col1\" >38.57</td>\n",
       "                        <td id=\"T_8677a086_cf51_11e9_a59a_e82a440aa5acrow4_col2\" class=\"data row4 col2\" >9.46</td>\n",
       "                        <td id=\"T_8677a086_cf51_11e9_a59a_e82a440aa5acrow4_col3\" class=\"data row4 col3\" >77.92</td>\n",
       "                        <td id=\"T_8677a086_cf51_11e9_a59a_e82a440aa5acrow4_col4\" class=\"data row4 col4\" >57.81</td>\n",
       "            </tr>\n",
       "            <tr>\n",
       "                                <td id=\"T_8677a086_cf51_11e9_a59a_e82a440aa5acrow5_col0\" class=\"data row5 col0\" >Skewnes</td>\n",
       "                        <td id=\"T_8677a086_cf51_11e9_a59a_e82a440aa5acrow5_col1\" class=\"data row5 col1\" >-0.07</td>\n",
       "                        <td id=\"T_8677a086_cf51_11e9_a59a_e82a440aa5acrow5_col2\" class=\"data row5 col2\" >0.01</td>\n",
       "                        <td id=\"T_8677a086_cf51_11e9_a59a_e82a440aa5acrow5_col3\" class=\"data row5 col3\" >-0.11</td>\n",
       "                        <td id=\"T_8677a086_cf51_11e9_a59a_e82a440aa5acrow5_col4\" class=\"data row5 col4\" >-0.02</td>\n",
       "            </tr>\n",
       "            <tr>\n",
       "                                <td id=\"T_8677a086_cf51_11e9_a59a_e82a440aa5acrow6_col0\" class=\"data row6 col0\" >Quantile 1</td>\n",
       "                        <td id=\"T_8677a086_cf51_11e9_a59a_e82a440aa5acrow6_col1\" class=\"data row6 col1\" >25</td>\n",
       "                        <td id=\"T_8677a086_cf51_11e9_a59a_e82a440aa5acrow6_col2\" class=\"data row6 col2\" >23</td>\n",
       "                        <td id=\"T_8677a086_cf51_11e9_a59a_e82a440aa5acrow6_col3\" class=\"data row6 col3\" >157</td>\n",
       "                        <td id=\"T_8677a086_cf51_11e9_a59a_e82a440aa5acrow6_col4\" class=\"data row6 col4\" >57</td>\n",
       "            </tr>\n",
       "            <tr>\n",
       "                                <td id=\"T_8677a086_cf51_11e9_a59a_e82a440aa5acrow7_col0\" class=\"data row7 col0\" >Quantile 2</td>\n",
       "                        <td id=\"T_8677a086_cf51_11e9_a59a_e82a440aa5acrow7_col1\" class=\"data row7 col1\" >30</td>\n",
       "                        <td id=\"T_8677a086_cf51_11e9_a59a_e82a440aa5acrow7_col2\" class=\"data row7 col2\" >25</td>\n",
       "                        <td id=\"T_8677a086_cf51_11e9_a59a_e82a440aa5acrow7_col3\" class=\"data row7 col3\" >166</td>\n",
       "                        <td id=\"T_8677a086_cf51_11e9_a59a_e82a440aa5acrow7_col4\" class=\"data row7 col4\" >62</td>\n",
       "            </tr>\n",
       "            <tr>\n",
       "                                <td id=\"T_8677a086_cf51_11e9_a59a_e82a440aa5acrow8_col0\" class=\"data row8 col0\" >Quantile 3</td>\n",
       "                        <td id=\"T_8677a086_cf51_11e9_a59a_e82a440aa5acrow8_col1\" class=\"data row8 col1\" >36</td>\n",
       "                        <td id=\"T_8677a086_cf51_11e9_a59a_e82a440aa5acrow8_col2\" class=\"data row8 col2\" >28</td>\n",
       "                        <td id=\"T_8677a086_cf51_11e9_a59a_e82a440aa5acrow8_col3\" class=\"data row8 col3\" >173</td>\n",
       "                        <td id=\"T_8677a086_cf51_11e9_a59a_e82a440aa5acrow8_col4\" class=\"data row8 col4\" >70</td>\n",
       "            </tr>\n",
       "            <tr>\n",
       "                                <td id=\"T_8677a086_cf51_11e9_a59a_e82a440aa5acrow9_col0\" class=\"data row9 col0\" >Median</td>\n",
       "                        <td id=\"T_8677a086_cf51_11e9_a59a_e82a440aa5acrow9_col1\" class=\"data row9 col1\" >30</td>\n",
       "                        <td id=\"T_8677a086_cf51_11e9_a59a_e82a440aa5acrow9_col2\" class=\"data row9 col2\" >25</td>\n",
       "                        <td id=\"T_8677a086_cf51_11e9_a59a_e82a440aa5acrow9_col3\" class=\"data row9 col3\" >166</td>\n",
       "                        <td id=\"T_8677a086_cf51_11e9_a59a_e82a440aa5acrow9_col4\" class=\"data row9 col4\" >62</td>\n",
       "            </tr>\n",
       "            <tr>\n",
       "                                <td id=\"T_8677a086_cf51_11e9_a59a_e82a440aa5acrow10_col0\" class=\"data row10 col0\" >Modus</td>\n",
       "                        <td id=\"T_8677a086_cf51_11e9_a59a_e82a440aa5acrow10_col1\" class=\"data row10 col1\" >37</td>\n",
       "                        <td id=\"T_8677a086_cf51_11e9_a59a_e82a440aa5acrow10_col2\" class=\"data row10 col2\" >24</td>\n",
       "                        <td id=\"T_8677a086_cf51_11e9_a59a_e82a440aa5acrow10_col3\" class=\"data row10 col3\" >167</td>\n",
       "                        <td id=\"T_8677a086_cf51_11e9_a59a_e82a440aa5acrow10_col4\" class=\"data row10 col4\" >57</td>\n",
       "            </tr>\n",
       "    </tbody></table>"
      ],
      "text/plain": [
       "<pandas.io.formats.style.Styler at 0x5c8d530>"
      ]
     },
     "execution_count": 2,
     "metadata": {},
     "output_type": "execute_result"
    }
   ],
   "source": [
    "import pandas as pd\n",
    "from scipy import stats\n",
    "df = pd.read_csv('liya.csv',sep=',')\n",
    "data = {\"stats\": ['Min','Max','Mean','Standard Deviasi','Variasi','Skewnes','Quantile 1','Quantile 2',\n",
    "                  'Quantile 3','Median','Modus']}\n",
    "for i in df.columns:\n",
    "    data[i] = [df[i].min(), df[i].max(), df[i].mean(), round(df[i].std(),2), round(df[i].var(),2),\n",
    "               round(df[i].skew(),2), df[i].quantile(0.25),df[i].quantile(0.5),df[i].quantile(0.75), \n",
    "               df[i].median(), stats.mode(df[i]).mode[0]]\n",
    "tes = pd.DataFrame(data)\n",
    "tes.style.hide_index()"
   ]
  },
  {
   "cell_type": "code",
   "execution_count": 4,
   "metadata": {},
   "outputs": [
    {
     "data": {
      "image/png": "[encoded data removed]",
      "text/plain": [
       "<Figure size 432x288 with 1 Axes>"
      ]
     },
     "metadata": {
      "needs_background": "light"
     },
     "output_type": "display_data"
    }
   ],
   "source": [
    "from scipy import stats \n",
    "import pandas as pd\n",
    "import numpy as np\n",
    "import seaborn as sns\n",
    "import matplotlib.pyplot as plt\n",
    "df = pd.read_csv('liya.csv',sep=',')\n",
    "plt.hist(df.values)\n",
    "plt.show()"
   ]
  },
  {
   "cell_type": "code",
   "execution_count": null,
   "metadata": {},
   "outputs": [],
   "source": []
  }
 ],
 "metadata": {
  "kernelspec": {
   "display_name": "Python 3",
   "language": "python",
   "name": "python3"
  },
  "language_info": {
   "codemirror_mode": {
    "name": "ipython",
    "version": 3
   },
   "file_extension": ".py",
   "mimetype": "text/x-python",
   "name": "python",
   "nbconvert_exporter": "python",
   "pygments_lexer": "ipython3",
   "version": "3.7.3"
  }
 },
 "nbformat": 4,
 "nbformat_minor": 2
}
